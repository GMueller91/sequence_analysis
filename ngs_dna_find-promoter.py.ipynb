{
 "cells": [
  {
   "cell_type": "markdown",
   "metadata": {},
   "source": [
    "### https://www.digitalbiologist.com/blog/2018/07/python-for-genomics-and-next-generation-sequencing.html"
   ]
  },
  {
   "cell_type": "code",
   "execution_count": null,
   "metadata": {},
   "outputs": [],
   "source": [
    "# Grant Mueller - 14Feb22 ----------------------------------------------------------------------------------------------+-\n",
    "# Use this script to generate a random chromosome of 250 million bases and search for a promoter\n",
    "# +---------------------------------------------------------------------------------------------------------------------+-\n",
    "\n",
    "#Use the Python random module to generate a randomized sequence of 250 million bases: [atcg] , then find promoter.\n",
    "#Value was decreased from (250000000, 250) for testing. \n",
    "import random\n",
    "bases = ['a', 't', 'c', 'g']\n",
    "sequenceList = []\n",
    "for n in range(0, 250000000):\n",
    "    sequenceList.append(random.choice(bases))\n",
    "chromosome = \"\".join(sequenceList)\n"
   ]
  },
  {
   "cell_type": "code",
   "execution_count": null,
   "metadata": {},
   "outputs": [],
   "source": [
    "# Search the randomly generated chromosome for a specified promoter sequence using regex and measure the ex time. \n",
    "import time, re\n",
    "promoter = 'ttgaca.{15, 25}tataat' \n",
    "t1 = time.time() \n",
    "result = re.finditer(promoter, chromosome) \n",
    "t2 = time.time() \n",
    "print(\"Search time was \", (t2-t1), \" seconds\")\n",
    "\n",
    "# -------------------------------------------------------------------------------------------------------------------\n",
    "# Expected output: Search time was 0.00100994110107 seconds"
   ]
  },
  {
   "cell_type": "code",
   "execution_count": null,
   "metadata": {},
   "outputs": [],
   "source": [
    "# Use match objects to return promoter sequences and number of promoters found.\n",
    "nmatches = 0 \n",
    "for match in result:\n",
    "     nmatches += 1     \n",
    "     print(match.start(), match.end(), match.group())\n",
    "print(\"Number of search hits = \", nmatches)\n",
    "\n",
    "# -------------------------------------------------------------------------------------------------------------------\n",
    "'''Expected output shown below:\n",
    "1199566 1199603 ttgacactcacatcatcagagccccacatagtataat\n",
    "2103278 2103308 ttgacacacacagggtttgtgatttataat\n",
    "3702112 3702141 ttgacactctttcaaaccaggactataat\n",
    "…\n",
    "245627316 245627350 ttgacaaggtctccgtggccccggctattataat\n",
    "246256184 246256220 ttgacaggattcctctcgttaattacatcgtataat\n",
    "248653641 248653674 ttgacaaccgggctcgtaacgtattagtataat\n",
    "Number of search hits =  185'''"
   ]
  }
 ],
 "metadata": {
  "kernelspec": {
   "display_name": "Python 3 (ipykernel)",
   "language": "python",
   "name": "python3"
  },
  "language_info": {
   "codemirror_mode": {
    "name": "ipython",
    "version": 3
   },
   "file_extension": ".py",
   "mimetype": "text/x-python",
   "name": "python",
   "nbconvert_exporter": "python",
   "pygments_lexer": "ipython3",
   "version": "3.7.11"
  }
 },
 "nbformat": 4,
 "nbformat_minor": 2
}
